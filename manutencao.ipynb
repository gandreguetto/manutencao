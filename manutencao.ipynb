{
 "cells": [
  {
   "cell_type": "markdown",
   "metadata": {},
   "source": [
    "# Otimização do sistema de manutenção de caminhões\n",
    "\n",
    "Nessa análise nós exploramos uma base de dados sobre os veículos da frota. \n",
    "\n",
    "O principal objetivo é aplicar técnicas de Machine Learing para prever os veículos que precisarão de manutenção, reduzindo assim os custos da empresa. \n",
    "\n",
    "Também iremos investigar quais são as principais váriaveis na predição da manutenção de um veículo."
   ]
  },
  {
   "cell_type": "markdown",
   "metadata": {},
   "source": [
    "## Carregamento dos dados"
   ]
  },
  {
   "cell_type": "code",
   "execution_count": 24,
   "metadata": {},
   "outputs": [],
   "source": [
    "# importa as principais bibliotecas que serão utilizadas\n",
    "import numpy as np\n",
    "import pandas as pd\n",
    "import matplotlib.pyplot as plt\n",
    "import seaborn as sns"
   ]
  },
  {
   "cell_type": "code",
   "execution_count": 25,
   "metadata": {},
   "outputs": [],
   "source": [
    "# carrega os dados pré 2020\n",
    "df_pre = pd.read_csv('data_pre_2020.csv')\n",
    "\n",
    "# carrega os dados de 2020\n",
    "df = pd.read_csv('data_2020.csv')"
   ]
  },
  {
   "cell_type": "markdown",
   "metadata": {},
   "source": [
    "## Explorando os dados"
   ]
  },
  {
   "cell_type": "code",
   "execution_count": 26,
   "metadata": {},
   "outputs": [
    {
     "data": {
      "text/html": [
       "<div>\n",
       "<style scoped>\n",
       "    .dataframe tbody tr th:only-of-type {\n",
       "        vertical-align: middle;\n",
       "    }\n",
       "\n",
       "    .dataframe tbody tr th {\n",
       "        vertical-align: top;\n",
       "    }\n",
       "\n",
       "    .dataframe thead th {\n",
       "        text-align: right;\n",
       "    }\n",
       "</style>\n",
       "<table border=\"1\" class=\"dataframe\">\n",
       "  <thead>\n",
       "    <tr style=\"text-align: right;\">\n",
       "      <th></th>\n",
       "      <th>class</th>\n",
       "      <th>aa_000</th>\n",
       "      <th>ab_000</th>\n",
       "      <th>ac_000</th>\n",
       "      <th>ad_000</th>\n",
       "      <th>ae_000</th>\n",
       "      <th>af_000</th>\n",
       "      <th>ag_000</th>\n",
       "      <th>ag_001</th>\n",
       "      <th>ag_002</th>\n",
       "      <th>...</th>\n",
       "      <th>ee_002</th>\n",
       "      <th>ee_003</th>\n",
       "      <th>ee_004</th>\n",
       "      <th>ee_005</th>\n",
       "      <th>ee_006</th>\n",
       "      <th>ee_007</th>\n",
       "      <th>ee_008</th>\n",
       "      <th>ee_009</th>\n",
       "      <th>ef_000</th>\n",
       "      <th>eg_000</th>\n",
       "    </tr>\n",
       "  </thead>\n",
       "  <tbody>\n",
       "    <tr>\n",
       "      <th>0</th>\n",
       "      <td>neg</td>\n",
       "      <td>76698</td>\n",
       "      <td>na</td>\n",
       "      <td>2130706438</td>\n",
       "      <td>280</td>\n",
       "      <td>0</td>\n",
       "      <td>0</td>\n",
       "      <td>0</td>\n",
       "      <td>0</td>\n",
       "      <td>0</td>\n",
       "      <td>...</td>\n",
       "      <td>1240520</td>\n",
       "      <td>493384</td>\n",
       "      <td>721044</td>\n",
       "      <td>469792</td>\n",
       "      <td>339156</td>\n",
       "      <td>157956</td>\n",
       "      <td>73224</td>\n",
       "      <td>0</td>\n",
       "      <td>0</td>\n",
       "      <td>0</td>\n",
       "    </tr>\n",
       "    <tr>\n",
       "      <th>1</th>\n",
       "      <td>neg</td>\n",
       "      <td>33058</td>\n",
       "      <td>na</td>\n",
       "      <td>0</td>\n",
       "      <td>na</td>\n",
       "      <td>0</td>\n",
       "      <td>0</td>\n",
       "      <td>0</td>\n",
       "      <td>0</td>\n",
       "      <td>0</td>\n",
       "      <td>...</td>\n",
       "      <td>421400</td>\n",
       "      <td>178064</td>\n",
       "      <td>293306</td>\n",
       "      <td>245416</td>\n",
       "      <td>133654</td>\n",
       "      <td>81140</td>\n",
       "      <td>97576</td>\n",
       "      <td>1500</td>\n",
       "      <td>0</td>\n",
       "      <td>0</td>\n",
       "    </tr>\n",
       "    <tr>\n",
       "      <th>2</th>\n",
       "      <td>neg</td>\n",
       "      <td>41040</td>\n",
       "      <td>na</td>\n",
       "      <td>228</td>\n",
       "      <td>100</td>\n",
       "      <td>0</td>\n",
       "      <td>0</td>\n",
       "      <td>0</td>\n",
       "      <td>0</td>\n",
       "      <td>0</td>\n",
       "      <td>...</td>\n",
       "      <td>277378</td>\n",
       "      <td>159812</td>\n",
       "      <td>423992</td>\n",
       "      <td>409564</td>\n",
       "      <td>320746</td>\n",
       "      <td>158022</td>\n",
       "      <td>95128</td>\n",
       "      <td>514</td>\n",
       "      <td>0</td>\n",
       "      <td>0</td>\n",
       "    </tr>\n",
       "    <tr>\n",
       "      <th>3</th>\n",
       "      <td>neg</td>\n",
       "      <td>12</td>\n",
       "      <td>0</td>\n",
       "      <td>70</td>\n",
       "      <td>66</td>\n",
       "      <td>0</td>\n",
       "      <td>10</td>\n",
       "      <td>0</td>\n",
       "      <td>0</td>\n",
       "      <td>0</td>\n",
       "      <td>...</td>\n",
       "      <td>240</td>\n",
       "      <td>46</td>\n",
       "      <td>58</td>\n",
       "      <td>44</td>\n",
       "      <td>10</td>\n",
       "      <td>0</td>\n",
       "      <td>0</td>\n",
       "      <td>0</td>\n",
       "      <td>4</td>\n",
       "      <td>32</td>\n",
       "    </tr>\n",
       "    <tr>\n",
       "      <th>4</th>\n",
       "      <td>neg</td>\n",
       "      <td>60874</td>\n",
       "      <td>na</td>\n",
       "      <td>1368</td>\n",
       "      <td>458</td>\n",
       "      <td>0</td>\n",
       "      <td>0</td>\n",
       "      <td>0</td>\n",
       "      <td>0</td>\n",
       "      <td>0</td>\n",
       "      <td>...</td>\n",
       "      <td>622012</td>\n",
       "      <td>229790</td>\n",
       "      <td>405298</td>\n",
       "      <td>347188</td>\n",
       "      <td>286954</td>\n",
       "      <td>311560</td>\n",
       "      <td>433954</td>\n",
       "      <td>1218</td>\n",
       "      <td>0</td>\n",
       "      <td>0</td>\n",
       "    </tr>\n",
       "  </tbody>\n",
       "</table>\n",
       "<p>5 rows × 171 columns</p>\n",
       "</div>"
      ],
      "text/plain": [
       "  class  aa_000 ab_000      ac_000 ad_000 ae_000 af_000 ag_000 ag_001 ag_002  \\\n",
       "0   neg   76698     na  2130706438    280      0      0      0      0      0   \n",
       "1   neg   33058     na           0     na      0      0      0      0      0   \n",
       "2   neg   41040     na         228    100      0      0      0      0      0   \n",
       "3   neg      12      0          70     66      0     10      0      0      0   \n",
       "4   neg   60874     na        1368    458      0      0      0      0      0   \n",
       "\n",
       "   ...   ee_002  ee_003  ee_004  ee_005  ee_006  ee_007  ee_008 ee_009 ef_000  \\\n",
       "0  ...  1240520  493384  721044  469792  339156  157956   73224      0      0   \n",
       "1  ...   421400  178064  293306  245416  133654   81140   97576   1500      0   \n",
       "2  ...   277378  159812  423992  409564  320746  158022   95128    514      0   \n",
       "3  ...      240      46      58      44      10       0       0      0      4   \n",
       "4  ...   622012  229790  405298  347188  286954  311560  433954   1218      0   \n",
       "\n",
       "  eg_000  \n",
       "0      0  \n",
       "1      0  \n",
       "2      0  \n",
       "3     32  \n",
       "4      0  \n",
       "\n",
       "[5 rows x 171 columns]"
      ]
     },
     "execution_count": 26,
     "metadata": {},
     "output_type": "execute_result"
    }
   ],
   "source": [
    "df_pre.head()"
   ]
  },
  {
   "cell_type": "code",
   "execution_count": 27,
   "metadata": {},
   "outputs": [
    {
     "name": "stdout",
     "output_type": "stream",
     "text": [
      "class         0\n",
      "aa_000        0\n",
      "ab_000    46329\n",
      "ac_000     3335\n",
      "ad_000    14861\n",
      "          ...  \n",
      "ee_007      671\n",
      "ee_008      671\n",
      "ee_009      671\n",
      "ef_000     2724\n",
      "eg_000     2723\n",
      "Length: 171, dtype: int64\n"
     ]
    }
   ],
   "source": [
    "# verifica o número de dados faltantes em cada coluna\n",
    "num_falt = (df_pre == 'na').sum()\n",
    "print(num_falt)"
   ]
  },
  {
   "cell_type": "code",
   "execution_count": 28,
   "metadata": {},
   "outputs": [
    {
     "name": "stdout",
     "output_type": "stream",
     "text": [
      "Existem: 2 colunas sem nenhum dado faltante \n",
      "\n",
      "129 colunas com menos de 3000 dados faltantes \n",
      "\n",
      "42 colunas com mais de 3000 dados faltantes \n",
      "\n"
     ]
    }
   ],
   "source": [
    "# verifica quantas colunas apresentam mais de 5% (3000) dos dados faltantes \n",
    "zero = sum(num_falt == 0)\n",
    "menos_de_3000 = sum(num_falt < 3000) \n",
    "mais_de_3000 = sum(num_falt > 3000)\n",
    "      \n",
    "print('Existem: {} colunas sem nenhum dado faltante \\n'.format(zero))        \n",
    "print('{} colunas com menos de 3000 dados faltantes \\n'.format(menos_de_3000))  \n",
    "print('{} colunas com mais de 3000 dados faltantes \\n'.format(mais_de_3000))        "
   ]
  },
  {
   "cell_type": "markdown",
   "metadata": {},
   "source": [
    "Iremos remover as colunas com mais de 3000 dados faltantes"
   ]
  },
  {
   "cell_type": "code",
   "execution_count": 29,
   "metadata": {},
   "outputs": [],
   "source": [
    "# colunas com mais de 3000 dados faltantes\n",
    "col = []\n",
    "\n",
    "for i in range(len(num_falt)):\n",
    "    if num_falt[i] > 3000:\n",
    "        col.append((num_falt.index)[i])"
   ]
  },
  {
   "cell_type": "code",
   "execution_count": 30,
   "metadata": {},
   "outputs": [],
   "source": [
    "# remove as colunas\n",
    "df_pre.drop(col, axis = 1, inplace = True)"
   ]
  },
  {
   "cell_type": "markdown",
   "metadata": {},
   "source": [
    "Para as demais colunas com dados faltantes iremos preenchê-los com a média da coluna"
   ]
  },
  {
   "cell_type": "code",
   "execution_count": 31,
   "metadata": {},
   "outputs": [],
   "source": [
    "# mapeia as strings 'neg' e 'pos' da coluna 'class' nos valores 0 e 1, respectivamente\n",
    "df_pre['class'] = df_pre['class'].map({'neg' : 0, 'pos' : 1})\n",
    "\n",
    "# subsititui as strings 'na' por np.NaN\n",
    "df_pre = df_pre.replace('na', np.NaN)"
   ]
  },
  {
   "cell_type": "code",
   "execution_count": 32,
   "metadata": {},
   "outputs": [],
   "source": [
    "# transforma todos os dados em float\n",
    "df_pred = df_pre.astype(float)"
   ]
  },
  {
   "cell_type": "code",
   "execution_count": 33,
   "metadata": {},
   "outputs": [],
   "source": [
    "# substitui os valores faltantes pelas médias das colunas\n",
    "df_pred = df_pred.fillna(df_pred.mean())"
   ]
  },
  {
   "cell_type": "markdown",
   "metadata": {},
   "source": [
    "## Machine Learning\n",
    "\n",
    "Queremos desenvolver um modelo de classificação para prever os veículos que precisarão de manutenção"
   ]
  },
  {
   "cell_type": "code",
   "execution_count": 34,
   "metadata": {},
   "outputs": [],
   "source": [
    "# normalização das variáveis\n",
    "from sklearn.preprocessing import MinMaxScaler\n",
    "scaler = MinMaxScaler()\n",
    "scaler.fit(df_pred)\n",
    "df_pred_rescaled = pd.DataFrame(scaler.transform(df_pred))"
   ]
  },
  {
   "cell_type": "code",
   "execution_count": 35,
   "metadata": {},
   "outputs": [],
   "source": [
    "# importando as bibliotecas de alguns modelos de classificassão\n",
    "from sklearn.tree import DecisionTreeClassifier\n",
    "from sklearn.ensemble import RandomForestClassifier\n",
    "from sklearn.ensemble import BaggingClassifier"
   ]
  },
  {
   "cell_type": "code",
   "execution_count": 36,
   "metadata": {},
   "outputs": [],
   "source": [
    "# define o método de validação do modelo, utilizamos Kfold\n",
    "from sklearn.model_selection import cross_validate\n",
    "from sklearn.model_selection import RepeatedStratifiedKFold\n",
    "\n",
    "validacao = RepeatedStratifiedKFold(n_splits = 10, n_repeats = 1)"
   ]
  },
  {
   "cell_type": "code",
   "execution_count": 38,
   "metadata": {},
   "outputs": [],
   "source": [
    "def teste_modelos(var_pred, var_resp):\n",
    "  \"\"\"\n",
    "      Aplica diferentes modelos de classificação nos dados de entrada e retorna um DataFrame \n",
    "      com as métricas de avaliação dos modelos.\n",
    "  \"\"\"  \n",
    "\n",
    "  lista_de_medidas = ['accuracy', 'recall', 'precision', 'balanced_accuracy', 'f1']\n",
    "  nome_das_medidas = ['acurácia', 'sensibilidade', 'precisão', 'eficiência', 'f1-score']\n",
    "\n",
    "  lista_de_modelos = [    DecisionTreeClassifier(max_depth = 7),\n",
    "                          BaggingClassifier(),\n",
    "                          RandomForestClassifier(n_estimators=50, max_depth = 5)]\n",
    "\n",
    "  nome_dos_modelos = [    'Árvore (prof = 7)',\n",
    "                          'Bagging',\n",
    "                          'Random Forest (arvs = 50, prof = 5)']\n",
    "\n",
    "  resultados0 = {}\n",
    "\n",
    "  for i in range(len(lista_de_modelos)):\n",
    "\n",
    "      print('Rodando modelo: ' + nome_dos_modelos[i])\n",
    "\n",
    "      accs_vc = cross_validate(lista_de_modelos[i], var_pred, var_resp, cv = validacao, scoring = lista_de_medidas)\n",
    "\n",
    "      acc = accs_vc['test_accuracy'].mean()\n",
    "      sen = accs_vc['test_recall'].mean()\n",
    "      vpp = accs_vc['test_precision'].mean()\n",
    "      bac = accs_vc['test_balanced_accuracy'].mean()\n",
    "      f1s = accs_vc['test_f1'].mean()\n",
    "\n",
    "      resultados0[nome_dos_modelos[i]] = [acc, sen, vpp, bac, f1s]\n",
    "      \n",
    "      \n",
    "  return pd.DataFrame(resultados0, index = nome_das_medidas).T\n"
   ]
  },
  {
   "cell_type": "code",
   "execution_count": 41,
   "metadata": {},
   "outputs": [],
   "source": [
    "# define as variáveis preditoras e a variável resposta\n",
    "X = df_pred_rescaled.drop(0, axis = 1)\n",
    "y = df_pred_rescaled[0]"
   ]
  },
  {
   "cell_type": "code",
   "execution_count": 42,
   "metadata": {},
   "outputs": [
    {
     "name": "stdout",
     "output_type": "stream",
     "text": [
      "Rodando modelo: Árvore (prof = 7)\n",
      "Rodando modelo: Bagging\n",
      "Rodando modelo: Random Forest (arvs = 50, prof = 5)\n"
     ]
    },
    {
     "data": {
      "text/html": [
       "<div>\n",
       "<style scoped>\n",
       "    .dataframe tbody tr th:only-of-type {\n",
       "        vertical-align: middle;\n",
       "    }\n",
       "\n",
       "    .dataframe tbody tr th {\n",
       "        vertical-align: top;\n",
       "    }\n",
       "\n",
       "    .dataframe thead th {\n",
       "        text-align: right;\n",
       "    }\n",
       "</style>\n",
       "<table border=\"1\" class=\"dataframe\">\n",
       "  <thead>\n",
       "    <tr style=\"text-align: right;\">\n",
       "      <th></th>\n",
       "      <th>acurácia</th>\n",
       "      <th>sensibilidade</th>\n",
       "      <th>precisão</th>\n",
       "      <th>eficiência</th>\n",
       "      <th>f1-score</th>\n",
       "    </tr>\n",
       "  </thead>\n",
       "  <tbody>\n",
       "    <tr>\n",
       "      <th>Bagging</th>\n",
       "      <td>0.992933</td>\n",
       "      <td>0.674</td>\n",
       "      <td>0.875858</td>\n",
       "      <td>0.836169</td>\n",
       "      <td>0.760146</td>\n",
       "    </tr>\n",
       "    <tr>\n",
       "      <th>Árvore (prof = 7)</th>\n",
       "      <td>0.991217</td>\n",
       "      <td>0.612</td>\n",
       "      <td>0.816168</td>\n",
       "      <td>0.804822</td>\n",
       "      <td>0.698873</td>\n",
       "    </tr>\n",
       "    <tr>\n",
       "      <th>Random Forest (arvs = 50, prof = 5)</th>\n",
       "      <td>0.991000</td>\n",
       "      <td>0.519</td>\n",
       "      <td>0.902279</td>\n",
       "      <td>0.759000</td>\n",
       "      <td>0.656568</td>\n",
       "    </tr>\n",
       "  </tbody>\n",
       "</table>\n",
       "</div>"
      ],
      "text/plain": [
       "                                     acurácia  sensibilidade  precisão  \\\n",
       "Bagging                              0.992933          0.674  0.875858   \n",
       "Árvore (prof = 7)                    0.991217          0.612  0.816168   \n",
       "Random Forest (arvs = 50, prof = 5)  0.991000          0.519  0.902279   \n",
       "\n",
       "                                     eficiência  f1-score  \n",
       "Bagging                                0.836169  0.760146  \n",
       "Árvore (prof = 7)                      0.804822  0.698873  \n",
       "Random Forest (arvs = 50, prof = 5)    0.759000  0.656568  "
      ]
     },
     "execution_count": 42,
     "metadata": {},
     "output_type": "execute_result"
    }
   ],
   "source": [
    "resultados = teste_modelos(X, y)\n",
    "resultados.sort_values(by = 'sensibilidade', ascending = False)"
   ]
  },
  {
   "cell_type": "markdown",
   "metadata": {},
   "source": [
    "Dos modelos testados o Bagging foi o que apresentou a maior \"sensibilidade\", que é a métrica mais relevante para esse problema. \n",
    "\n",
    "A \"sensibilidade\" nos dá a fração dos veículos que apresentaram defeito no sistema de ar que o modelo é capaz de prever.\n",
    "\n",
    "Aplicaremos então um modelo de Bagging para os dados de 2020.\n"
   ]
  },
  {
   "cell_type": "markdown",
   "metadata": {},
   "source": [
    "## Pré-processamento dos dados de 2020"
   ]
  },
  {
   "cell_type": "code",
   "execution_count": 43,
   "metadata": {},
   "outputs": [],
   "source": [
    "# remove as colunas pré-determinadas na análise dos dados pré 2020\n",
    "df.drop(col, axis = 1, inplace = True)"
   ]
  },
  {
   "cell_type": "code",
   "execution_count": 44,
   "metadata": {},
   "outputs": [],
   "source": [
    "# mapeia as strings 'neg' e 'pos' da coluna 'class' nos valores 0 e 1, respectivamente\n",
    "df['class'] = df['class'].map({'neg' : 0, 'pos' : 1})\n",
    "\n",
    "# subsititui as strings 'na' por np.NaN\n",
    "df = df.replace('na', np.NaN)"
   ]
  },
  {
   "cell_type": "code",
   "execution_count": 45,
   "metadata": {},
   "outputs": [],
   "source": [
    "# transforma todos os dados em float\n",
    "df = df.astype(float)"
   ]
  },
  {
   "cell_type": "code",
   "execution_count": 46,
   "metadata": {},
   "outputs": [],
   "source": [
    "# substitui os valores faltantes pelas médias das colunas\n",
    "df = df.fillna(df.mean())"
   ]
  },
  {
   "cell_type": "code",
   "execution_count": 47,
   "metadata": {},
   "outputs": [],
   "source": [
    "# normalização das variáveis\n",
    "df_rescaled = pd.DataFrame(scaler.transform(df))"
   ]
  },
  {
   "cell_type": "markdown",
   "metadata": {},
   "source": [
    "## Aplicando o modelo nos dados de 2020"
   ]
  },
  {
   "cell_type": "code",
   "execution_count": 51,
   "metadata": {},
   "outputs": [],
   "source": [
    "# define o modelo\n",
    "bagging = BaggingClassifier()"
   ]
  },
  {
   "cell_type": "code",
   "execution_count": 52,
   "metadata": {},
   "outputs": [
    {
     "data": {
      "text/plain": [
       "BaggingClassifier()"
      ]
     },
     "execution_count": 52,
     "metadata": {},
     "output_type": "execute_result"
    }
   ],
   "source": [
    "# ajusta o modelo em toda a base pré 2020\n",
    "bagging.fit(X, y)"
   ]
  },
  {
   "cell_type": "code",
   "execution_count": 53,
   "metadata": {},
   "outputs": [],
   "source": [
    "# define as variáveis preditivas e de resposta dos dados de 2020\n",
    "X_2020 = df_rescaled.iloc[:, 1:]\n",
    "y_2020 = df_rescaled.iloc[:, 0]"
   ]
  },
  {
   "cell_type": "code",
   "execution_count": 54,
   "metadata": {},
   "outputs": [],
   "source": [
    "# predição \n",
    "pred_2020 = bagging.predict(X_2020)"
   ]
  },
  {
   "cell_type": "code",
   "execution_count": 55,
   "metadata": {},
   "outputs": [
    {
     "name": "stdout",
     "output_type": "stream",
     "text": [
      "O modelo é capaz de prever 69.87% dos veículos que precisaram de manutenção em 2020.\n"
     ]
    }
   ],
   "source": [
    "from sklearn import metrics\n",
    "# calcula a sensibilidade/recall do modelo quando aplicado nos dados de 2020\n",
    "sens = metrics.recall_score(y_2020, pred_2020)\n",
    "print('O modelo é capaz de prever {:.2%} dos veículos que precisaram de manutenção em 2020.'.format(sens))"
   ]
  },
  {
   "cell_type": "markdown",
   "metadata": {},
   "source": [
    "## Considerações sobre os resultados do modelo e os valores gastos "
   ]
  },
  {
   "cell_type": "code",
   "execution_count": 56,
   "metadata": {},
   "outputs": [
    {
     "name": "stdout",
     "output_type": "stream",
     "text": [
      "O modelo prediz a manutenção de 278 veículos e os dados apresentam 375 veículos que precisaram de manutenção.\n"
     ]
    }
   ],
   "source": [
    "# número de previsões positivas\n",
    "pred_pos = sum(pred_2020 == 1)\n",
    "\n",
    "# número de positivos nos dados\n",
    "num_pos = sum(y_2020 == 1)\n",
    "\n",
    "print('O modelo prediz a manutenção de {} veículos e os dados apresentam {} veículos que precisaram de manutenção.'.format(pred_pos, num_pos))"
   ]
  },
  {
   "cell_type": "code",
   "execution_count": 59,
   "metadata": {},
   "outputs": [
    {
     "name": "stdout",
     "output_type": "stream",
     "text": [
      "O modelo prediz corretamente 262.0 veículos que precisaram de manutenção e 113.0 veículos \n",
      " precisaram de manutenção mas não foram preditos.\n"
     ]
    }
   ],
   "source": [
    "# número de veículos preditos corretamente\n",
    "corr_pos = sens * num_pos\n",
    "\n",
    "# número de veículos que precisaram de manutenção mas não foram preditos\n",
    "nao_pred = num_pos - corr_pos\n",
    "\n",
    "print('O modelo prediz corretamente {} veículos que precisaram de manutenção e {} veículos \\n precisaram de manutenção mas não foram preditos.'.format(corr_pos, nao_pred))"
   ]
  },
  {
   "cell_type": "code",
   "execution_count": 61,
   "metadata": {},
   "outputs": [
    {
     "name": "stdout",
     "output_type": "stream",
     "text": [
      "Se as manutenções fossem realizadas conforme as predições do modelo a empresa teria gastado $59280.0.\n"
     ]
    }
   ],
   "source": [
    "# valor manutenção preventiva\n",
    "v1 = 10\n",
    "#valor manutenção corretiva\n",
    "v2 = 500\n",
    "\n",
    "# valor gasto\n",
    "total = pred_pos * v1 + nao_pred * v2\n",
    "\n",
    "print('Se as manutenções fossem realizadas conforme as predições do modelo a empresa teria gastado ${}.'.format(total))"
   ]
  },
  {
   "cell_type": "code",
   "execution_count": 62,
   "metadata": {},
   "outputs": [
    {
     "name": "stdout",
     "output_type": "stream",
     "text": [
      "A economia teria sido de $128220.0.\n"
     ]
    }
   ],
   "source": [
    "# valor que foi gasto em 2020\n",
    "gasto_2020 = 187500\n",
    "\n",
    "# valor economizado\n",
    "economia = gasto_2020 - total\n",
    "\n",
    "print('A economia teria sido de ${}.'.format(economia))"
   ]
  },
  {
   "cell_type": "markdown",
   "metadata": {},
   "source": [
    "## Variáveis de importância"
   ]
  },
  {
   "cell_type": "code",
   "execution_count": 63,
   "metadata": {},
   "outputs": [],
   "source": [
    "# calcula a importância relativa das variáveis\n",
    "feature_importances = np.mean([tree.feature_importances_ for tree in bagging.estimators_], axis=0)"
   ]
  },
  {
   "cell_type": "code",
   "execution_count": 64,
   "metadata": {},
   "outputs": [
    {
     "data": {
      "image/png": "[encoded data removed]",
      "text/plain": [
       "<Figure size 864x432 with 1 Axes>"
      ]
     },
     "metadata": {
      "needs_background": "light"
     },
     "output_type": "display_data"
    }
   ],
   "source": [
    "# ordena as variáveis em ordem ascendente de importância\n",
    "sorted_feat_imp = np.sort(feature_importances)\n",
    "\n",
    "# guarda a nova ordem dos índices após o reordenamento\n",
    "arg = feature_importances.argsort()\n",
    "\n",
    "# retorna o nome das variáveis\n",
    "feature_names = df_pre.drop('class', axis = 1).columns\n",
    "\n",
    "# reordena os nomes de acordo com o ordenamento de importância\n",
    "sorted_feat_names = feature_names[arg]\n",
    "\n",
    "# número de variáveis para serem exibidas no boxplot com as importâncias relativas\n",
    "num_features = 10\n",
    "\n",
    "# barplot da importância relativa\n",
    "fig = plt.figure(figsize = (12, 6))\n",
    "plt.bar(sorted_feat_names[::-1][:num_features], sorted_feat_imp[::-1][:num_features])\n",
    "plt.xticks(fontsize = 16, rotation = 55)\n",
    "plt.yticks(fontsize = 16)\n",
    "plt.title('Importância Relativa', fontsize = 20)\n",
    "plt.show()"
   ]
  },
  {
   "cell_type": "markdown",
   "metadata": {},
   "source": [
    "A variável bj_000 é a variável de maior importância na predição das manutenções e com grande superioridade sobre as demais. \n",
    "\n",
    "Em seguida temos ag_002, ay_005, ag_001 e ci_000 que ainda apresentam certa relevância.\n",
    "\n",
    "O gráfico também apresenta as outras 5 variáveis dentro das 10 mais relevantes mas a relevânancia se torna muito pequena.\n",
    "\n"
   ]
  }
 ],
 "metadata": {
  "kernelspec": {
   "display_name": "Python 3 (ipykernel)",
   "language": "python",
   "name": "python3"
  },
  "language_info": {
   "codemirror_mode": {
    "name": "ipython",
    "version": 3
   },
   "file_extension": ".py",
   "mimetype": "text/x-python",
   "name": "python",
   "nbconvert_exporter": "python",
   "pygments_lexer": "ipython3",
   "version": "3.8.10"
  }
 },
 "nbformat": 4,
 "nbformat_minor": 4
}
