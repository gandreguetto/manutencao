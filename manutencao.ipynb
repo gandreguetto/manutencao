{
 "cells": [
  {
   "cell_type": "markdown",
   "metadata": {},
   "source": [
    "# Otimização do sistema de manutenção de caminhões de uma frota\n",
    "\n",
    "\n",
    "## Descrição do problema\n",
    "\n",
    "Nesta análise nós exploramos uma base de dados que contém informações sobre os veículos de uma frota de caminhões. As informações gerais sobre os veículos encontram-se em colunas com nomenclatura codificada e também temos uma coluna que indica se o veículo precisou realizar manutenção no sistema de ar.\n",
    "\n",
    "O principal objetivo desta análise é aplicar técnicas de Machine Learning para prever os veículos que precisarão de manutenção. Essa predição poderia então ser utilizada para reduzir os custos da empresa. \n",
    "\n",
    "Uma manutenção preventiva custa $\\$10$ e previne que um caminhão apresente problemas nos sistema de ar. Se por outro lado um caminhão não realizar a manutenção preventiva e apresentar problema no sistema de ar, ele então precisará de uma manutenção corretiva que custa $\\$500$.   \n",
    "\n",
    "Temos dados de 2016 à 2019, que chamaremos de dados pré 2020, e também dados de 2020. Além disso, sabemos quanto foi o custo da mutenção do sistema de ar da frota em 2020. A ideia central desse projeto é que se obtivermos uma boa predição dos veículos que precisarão manutenção e a mutenção preventiva (que é muito mais barata) for realizada nesses veículos preditos, então a empresa poderá reduzir os seus custos com manutenção. \n",
    "\n",
    "Nós iremos explorar e ajustar modelos de classificação nos dados pré 2020. O modelo com a melhor performance será aplicado nos dados de 2020 e obteremos então o valor que poderia ter sido economizado em 2020 caso uma estratégia de manutenção baseada na predição de modelos estatísticos tivesse sido empregada.   \n",
    "\n",
    "Também iremos investigar quais são as principais váriaveis na predição da manutenção de um veículo."
   ]
  },
  {
   "cell_type": "markdown",
   "metadata": {},
   "source": [
    "## Carregamento dos dados"
   ]
  },
  {
   "cell_type": "code",
   "execution_count": 1,
   "metadata": {},
   "outputs": [],
   "source": [
    "# importa as principais bibliotecas que serão utilizadas\n",
    "import numpy as np\n",
    "import pandas as pd\n",
    "import matplotlib.pyplot as plt\n",
    "import seaborn as sns"
   ]
  },
  {
   "cell_type": "code",
   "execution_count": 2,
   "metadata": {},
   "outputs": [],
   "source": [
    "# carrega os dados pré 2020\n",
    "df_pre = pd.read_csv('data_pre_2020.csv')\n",
    "\n",
    "# carrega os dados de 2020\n",
    "df = pd.read_csv('data_2020.csv')"
   ]
  },
  {
   "cell_type": "markdown",
   "metadata": {},
   "source": [
    "## Explorando os dados"
   ]
  },
  {
   "cell_type": "code",
   "execution_count": 3,
   "metadata": {},
   "outputs": [
    {
     "data": {
      "text/html": [
       "<div>\n",
       "<style scoped>\n",
       "    .dataframe tbody tr th:only-of-type {\n",
       "        vertical-align: middle;\n",
       "    }\n",
       "\n",
       "    .dataframe tbody tr th {\n",
       "        vertical-align: top;\n",
       "    }\n",
       "\n",
       "    .dataframe thead th {\n",
       "        text-align: right;\n",
       "    }\n",
       "</style>\n",
       "<table border=\"1\" class=\"dataframe\">\n",
       "  <thead>\n",
       "    <tr style=\"text-align: right;\">\n",
       "      <th></th>\n",
       "      <th>class</th>\n",
       "      <th>aa_000</th>\n",
       "      <th>ab_000</th>\n",
       "      <th>ac_000</th>\n",
       "      <th>ad_000</th>\n",
       "      <th>ae_000</th>\n",
       "      <th>af_000</th>\n",
       "      <th>ag_000</th>\n",
       "      <th>ag_001</th>\n",
       "      <th>ag_002</th>\n",
       "      <th>...</th>\n",
       "      <th>ee_002</th>\n",
       "      <th>ee_003</th>\n",
       "      <th>ee_004</th>\n",
       "      <th>ee_005</th>\n",
       "      <th>ee_006</th>\n",
       "      <th>ee_007</th>\n",
       "      <th>ee_008</th>\n",
       "      <th>ee_009</th>\n",
       "      <th>ef_000</th>\n",
       "      <th>eg_000</th>\n",
       "    </tr>\n",
       "  </thead>\n",
       "  <tbody>\n",
       "    <tr>\n",
       "      <th>0</th>\n",
       "      <td>neg</td>\n",
       "      <td>76698</td>\n",
       "      <td>na</td>\n",
       "      <td>2130706438</td>\n",
       "      <td>280</td>\n",
       "      <td>0</td>\n",
       "      <td>0</td>\n",
       "      <td>0</td>\n",
       "      <td>0</td>\n",
       "      <td>0</td>\n",
       "      <td>...</td>\n",
       "      <td>1240520</td>\n",
       "      <td>493384</td>\n",
       "      <td>721044</td>\n",
       "      <td>469792</td>\n",
       "      <td>339156</td>\n",
       "      <td>157956</td>\n",
       "      <td>73224</td>\n",
       "      <td>0</td>\n",
       "      <td>0</td>\n",
       "      <td>0</td>\n",
       "    </tr>\n",
       "    <tr>\n",
       "      <th>1</th>\n",
       "      <td>neg</td>\n",
       "      <td>33058</td>\n",
       "      <td>na</td>\n",
       "      <td>0</td>\n",
       "      <td>na</td>\n",
       "      <td>0</td>\n",
       "      <td>0</td>\n",
       "      <td>0</td>\n",
       "      <td>0</td>\n",
       "      <td>0</td>\n",
       "      <td>...</td>\n",
       "      <td>421400</td>\n",
       "      <td>178064</td>\n",
       "      <td>293306</td>\n",
       "      <td>245416</td>\n",
       "      <td>133654</td>\n",
       "      <td>81140</td>\n",
       "      <td>97576</td>\n",
       "      <td>1500</td>\n",
       "      <td>0</td>\n",
       "      <td>0</td>\n",
       "    </tr>\n",
       "    <tr>\n",
       "      <th>2</th>\n",
       "      <td>neg</td>\n",
       "      <td>41040</td>\n",
       "      <td>na</td>\n",
       "      <td>228</td>\n",
       "      <td>100</td>\n",
       "      <td>0</td>\n",
       "      <td>0</td>\n",
       "      <td>0</td>\n",
       "      <td>0</td>\n",
       "      <td>0</td>\n",
       "      <td>...</td>\n",
       "      <td>277378</td>\n",
       "      <td>159812</td>\n",
       "      <td>423992</td>\n",
       "      <td>409564</td>\n",
       "      <td>320746</td>\n",
       "      <td>158022</td>\n",
       "      <td>95128</td>\n",
       "      <td>514</td>\n",
       "      <td>0</td>\n",
       "      <td>0</td>\n",
       "    </tr>\n",
       "    <tr>\n",
       "      <th>3</th>\n",
       "      <td>neg</td>\n",
       "      <td>12</td>\n",
       "      <td>0</td>\n",
       "      <td>70</td>\n",
       "      <td>66</td>\n",
       "      <td>0</td>\n",
       "      <td>10</td>\n",
       "      <td>0</td>\n",
       "      <td>0</td>\n",
       "      <td>0</td>\n",
       "      <td>...</td>\n",
       "      <td>240</td>\n",
       "      <td>46</td>\n",
       "      <td>58</td>\n",
       "      <td>44</td>\n",
       "      <td>10</td>\n",
       "      <td>0</td>\n",
       "      <td>0</td>\n",
       "      <td>0</td>\n",
       "      <td>4</td>\n",
       "      <td>32</td>\n",
       "    </tr>\n",
       "    <tr>\n",
       "      <th>4</th>\n",
       "      <td>neg</td>\n",
       "      <td>60874</td>\n",
       "      <td>na</td>\n",
       "      <td>1368</td>\n",
       "      <td>458</td>\n",
       "      <td>0</td>\n",
       "      <td>0</td>\n",
       "      <td>0</td>\n",
       "      <td>0</td>\n",
       "      <td>0</td>\n",
       "      <td>...</td>\n",
       "      <td>622012</td>\n",
       "      <td>229790</td>\n",
       "      <td>405298</td>\n",
       "      <td>347188</td>\n",
       "      <td>286954</td>\n",
       "      <td>311560</td>\n",
       "      <td>433954</td>\n",
       "      <td>1218</td>\n",
       "      <td>0</td>\n",
       "      <td>0</td>\n",
       "    </tr>\n",
       "  </tbody>\n",
       "</table>\n",
       "<p>5 rows × 171 columns</p>\n",
       "</div>"
      ],
      "text/plain": [
       "  class  aa_000 ab_000      ac_000 ad_000 ae_000 af_000 ag_000 ag_001 ag_002  \\\n",
       "0   neg   76698     na  2130706438    280      0      0      0      0      0   \n",
       "1   neg   33058     na           0     na      0      0      0      0      0   \n",
       "2   neg   41040     na         228    100      0      0      0      0      0   \n",
       "3   neg      12      0          70     66      0     10      0      0      0   \n",
       "4   neg   60874     na        1368    458      0      0      0      0      0   \n",
       "\n",
       "   ...   ee_002  ee_003  ee_004  ee_005  ee_006  ee_007  ee_008 ee_009 ef_000  \\\n",
       "0  ...  1240520  493384  721044  469792  339156  157956   73224      0      0   \n",
       "1  ...   421400  178064  293306  245416  133654   81140   97576   1500      0   \n",
       "2  ...   277378  159812  423992  409564  320746  158022   95128    514      0   \n",
       "3  ...      240      46      58      44      10       0       0      0      4   \n",
       "4  ...   622012  229790  405298  347188  286954  311560  433954   1218      0   \n",
       "\n",
       "  eg_000  \n",
       "0      0  \n",
       "1      0  \n",
       "2      0  \n",
       "3     32  \n",
       "4      0  \n",
       "\n",
       "[5 rows x 171 columns]"
      ]
     },
     "execution_count": 3,
     "metadata": {},
     "output_type": "execute_result"
    }
   ],
   "source": [
    "df_pre.head()"
   ]
  },
  {
   "cell_type": "markdown",
   "metadata": {},
   "source": [
    "Esse conjunto de dados apresenta dimensionalidade bastante alta. Nós iremos remover as colunas com um número de dados faltantes acima de um limiar definido para reduzir a dimensionalidade do problema."
   ]
  },
  {
   "cell_type": "code",
   "execution_count": 4,
   "metadata": {},
   "outputs": [
    {
     "name": "stdout",
     "output_type": "stream",
     "text": [
      "class         0\n",
      "aa_000        0\n",
      "ab_000    46329\n",
      "ac_000     3335\n",
      "ad_000    14861\n",
      "          ...  \n",
      "ee_007      671\n",
      "ee_008      671\n",
      "ee_009      671\n",
      "ef_000     2724\n",
      "eg_000     2723\n",
      "Length: 171, dtype: int64\n"
     ]
    }
   ],
   "source": [
    "# verifica o número de dados faltantes em cada coluna\n",
    "num_falt = (df_pre == 'na').sum()\n",
    "print(num_falt)"
   ]
  },
  {
   "cell_type": "markdown",
   "metadata": {},
   "source": [
    "Há diversas colunas com muitos dados faltantes."
   ]
  },
  {
   "cell_type": "code",
   "execution_count": 5,
   "metadata": {},
   "outputs": [],
   "source": [
    "def col_faltantes(limiar):\n",
    "    \"\"\"\n",
    "        Recebe um valor limiar e retorna uma lista com o nomde das colunas \n",
    "        que apresentam um número de dados faltantes maior que o limiar\n",
    "    \"\"\"\n",
    "    \n",
    "    # colunas com mais de \"limiar\" dados faltantes\n",
    "    col = []\n",
    "\n",
    "    for i in range(len(num_falt)):\n",
    "        if num_falt[i] > limiar:\n",
    "            col.append((num_falt.index)[i])\n",
    "            \n",
    "    return col        "
   ]
  },
  {
   "cell_type": "code",
   "execution_count": 6,
   "metadata": {},
   "outputs": [],
   "source": [
    "# realiza várias das etapas do pré-processamento\n",
    "def pre_process(data_frame, limiar):\n",
    "    new_data_frame = data_frame.copy()\n",
    "\n",
    "    # colunas para serem removidas\n",
    "    col_rem = col_faltantes(limiar)\n",
    "\n",
    "    # remove as colunas\n",
    "    new_data_frame.drop(col_rem, axis = 1, inplace = True)\n",
    "    \n",
    "    # mapeia as strings 'neg' e 'pos' da coluna 'class' nos valores 0 e 1, respectivamente\n",
    "    new_data_frame['class'] = new_data_frame['class'].map({'neg' : 0, 'pos' : 1})\n",
    "\n",
    "    # subsititui as strings 'na' por np.NaN\n",
    "    new_data_frame = new_data_frame.replace('na', np.NaN)\n",
    "    \n",
    "    # transforma todos os dados em float\n",
    "    new_data_frame = new_data_frame.astype(float)\n",
    "    \n",
    "    # substitui os valores faltantes pelas médias das colunas\n",
    "    new_data_frame = new_data_frame.fillna(new_data_frame.mean())\n",
    "    \n",
    "    return new_data_frame"
   ]
  },
  {
   "cell_type": "markdown",
   "metadata": {},
   "source": [
    "## Importação de bibliotecas adicionais "
   ]
  },
  {
   "cell_type": "code",
   "execution_count": 7,
   "metadata": {},
   "outputs": [],
   "source": [
    "# biblioteca para normalização das variáveis\n",
    "from sklearn.preprocessing import MinMaxScaler\n",
    "scaler = MinMaxScaler()"
   ]
  },
  {
   "cell_type": "code",
   "execution_count": 8,
   "metadata": {},
   "outputs": [],
   "source": [
    "# importa as bibliotecas de alguns modelos de classificação\n",
    "from sklearn.tree import DecisionTreeClassifier\n",
    "from sklearn.ensemble import RandomForestClassifier\n",
    "from sklearn.ensemble import BaggingClassifier\n",
    "from xgboost import XGBClassifier"
   ]
  },
  {
   "cell_type": "code",
   "execution_count": 9,
   "metadata": {},
   "outputs": [],
   "source": [
    "from sklearn.model_selection import train_test_split\n",
    "from sklearn import metrics"
   ]
  },
  {
   "cell_type": "markdown",
   "metadata": {},
   "source": [
    "## Definição do limiar de dados faltantes nas colunas\n",
    "\n",
    "Para diminuir o tempo de execução, nesta etapa iremos utilizar árvores de decisão e validação por holdout. "
   ]
  },
  {
   "cell_type": "code",
   "execution_count": 10,
   "metadata": {},
   "outputs": [],
   "source": [
    "# modelo de árvore de decisão\n",
    "tree = DecisionTreeClassifier()"
   ]
  },
  {
   "cell_type": "markdown",
   "metadata": {},
   "source": [
    "Iremos testar diferentes limiares para determinarmos um limiar adequado para a classificação."
   ]
  },
  {
   "cell_type": "code",
   "execution_count": 15,
   "metadata": {},
   "outputs": [],
   "source": [
    "# cria array com os limiares que serão testados\n",
    "n_faltantes = np.arange(500, 2100, 100)\n",
    "\n",
    "# lista com o valor da sensibilidade de cada limiar\n",
    "sens = []\n",
    "\n",
    "for n in n_faltantes:\n",
    "    df_pre_clean = pre_process(df_pre, n)\n",
    "    scaler.fit(df_pre_clean)\n",
    "    df_pre_rescaled = pd.DataFrame(scaler.transform(df_pre_clean))\n",
    "\n",
    "    # define as variáveis preditoras e a variável resposta\n",
    "    X = df_pre_rescaled.drop(0, axis = 1)\n",
    "    y = df_pre_rescaled[0]\n",
    "    \n",
    "    sensibilidade = 0\n",
    "    \n",
    "    for i in range(10): # roda 10 vezes para se calcular a média das sensibilidades \n",
    "        X_train, X_test, y_train, y_test = train_test_split(X, y, test_size=0.3)\n",
    "\n",
    "        # ajuste do modelo\n",
    "        tree.fit(X_train, y_train)\n",
    "        # predição \n",
    "        pred = tree.predict(X_test)\n",
    "        # calcula a sensibilidade/recall do modelo \n",
    "        sensibilidade += metrics.recall_score(y_test, pred)  \n",
    "\n",
    "    sens.append(sensibilidade/10)"
   ]
  },
  {
   "cell_type": "code",
   "execution_count": 16,
   "metadata": {},
   "outputs": [
    {
     "data": {
      "image/png": "[encoded data removed]",
      "text/plain": [
       "<Figure size 432x288 with 1 Axes>"
      ]
     },
     "metadata": {
      "needs_background": "light"
     },
     "output_type": "display_data"
    }
   ],
   "source": [
    "# plot da sensibilidade do modelo como função do limiar\n",
    "plt.plot(n_faltantes, np.array(sens))\n",
    "plt.xlabel('Limiar')\n",
    "plt.ylabel('Sensibilidade')\n",
    "plt.show()"
   ]
  },
  {
   "cell_type": "markdown",
   "metadata": {},
   "source": [
    "Esses resultados indicam que as colunas com até 700 dados faltantes já fornecem uma boa performance na classificação. Nós iremos utilizar esse valor como limiar para eliminar algumas variáveis."
   ]
  },
  {
   "cell_type": "code",
   "execution_count": 11,
   "metadata": {},
   "outputs": [
    {
     "name": "stdout",
     "output_type": "stream",
     "text": [
      "Existem:\n",
      "\n",
      "• 99 colunas com menos de 700 dados faltantes \n",
      "\n",
      "• 72 colunas com mais de 700 dados faltantes \n",
      "\n"
     ]
    }
   ],
   "source": [
    "# verifica quantas colunas apresentam mais de (700) dos dados faltantes \n",
    "menos_de_700 = sum(num_falt < 700) \n",
    "mais_de_700 = sum(num_falt > 700)\n",
    "      \n",
    "print('Existem:\\n')        \n",
    "print('\\u2022 {} colunas com menos de 700 dados faltantes \\n'.format(menos_de_700))  \n",
    "print('\\u2022 {} colunas com mais de 700 dados faltantes \\n'.format(mais_de_700))        "
   ]
  },
  {
   "cell_type": "markdown",
   "metadata": {},
   "source": [
    "## Teste de modelos de classificação\n",
    "\n",
    "Nesta etapa iremos realizar a validação pelo método K-fold"
   ]
  },
  {
   "cell_type": "code",
   "execution_count": 12,
   "metadata": {},
   "outputs": [],
   "source": [
    "# define o método de validação do modelo, utilizamos Kfold\n",
    "from sklearn.model_selection import cross_validate\n",
    "from sklearn.model_selection import RepeatedStratifiedKFold\n",
    "\n",
    "validacao = RepeatedStratifiedKFold(n_splits = 10, n_repeats = 1)"
   ]
  },
  {
   "cell_type": "code",
   "execution_count": 13,
   "metadata": {},
   "outputs": [],
   "source": [
    "def teste_modelos(var_pred, var_resp):\n",
    "  \"\"\"\n",
    "      Aplica diferentes modelos de classificação nos dados de entrada e retorna um DataFrame \n",
    "      com as métricas de avaliação dos modelos.\n",
    "  \"\"\"  \n",
    "\n",
    "  lista_de_medidas = ['accuracy', 'recall', 'precision', 'balanced_accuracy', 'f1']\n",
    "  nome_das_medidas = ['acurácia', 'sensibilidade', 'precisão', 'eficiência', 'f1-score']\n",
    "\n",
    "  lista_de_modelos = [    DecisionTreeClassifier(max_depth = 7),\n",
    "                          BaggingClassifier(),\n",
    "                          RandomForestClassifier(n_estimators=50, max_depth = 5),\n",
    "                          XGBClassifier()]\n",
    "\n",
    "  nome_dos_modelos = [    'Árvore (prof = 7)',\n",
    "                          'Bagging',\n",
    "                          'Random Forest (arvs = 50, prof = 5)',\n",
    "                          'XGBoost'] \n",
    "  resultados0 = {}\n",
    "\n",
    "  for i in range(len(lista_de_modelos)):\n",
    "\n",
    "      print('Rodando modelo: ' + nome_dos_modelos[i])\n",
    "\n",
    "      accs_vc = cross_validate(lista_de_modelos[i], var_pred, var_resp, cv = validacao, scoring = lista_de_medidas)\n",
    "\n",
    "      acc = accs_vc['test_accuracy'].mean()\n",
    "      sen = accs_vc['test_recall'].mean()\n",
    "      vpp = accs_vc['test_precision'].mean()\n",
    "      bac = accs_vc['test_balanced_accuracy'].mean()\n",
    "      f1s = accs_vc['test_f1'].mean()\n",
    "\n",
    "      resultados0[nome_dos_modelos[i]] = [acc, sen, vpp, bac, f1s]\n",
    "      \n",
    "      \n",
    "  return pd.DataFrame(resultados0, index = nome_das_medidas).T\n"
   ]
  },
  {
   "cell_type": "code",
   "execution_count": 14,
   "metadata": {},
   "outputs": [],
   "source": [
    "# pré-processamento dos dados com um limiar de 700\n",
    "df_pre_clean = pre_process(df_pre, 700)\n",
    "\n",
    "# normalização dos dados\n",
    "scaler.fit(df_pre_clean)\n",
    "df_pre_rescaled = pd.DataFrame(scaler.transform(df_pre_clean))"
   ]
  },
  {
   "cell_type": "code",
   "execution_count": 15,
   "metadata": {},
   "outputs": [],
   "source": [
    "# define as variáveis preditoras e a variável resposta\n",
    "X = df_pre_rescaled.drop(0, axis = 1)\n",
    "y = df_pre_rescaled[0]"
   ]
  },
  {
   "cell_type": "code",
   "execution_count": 22,
   "metadata": {},
   "outputs": [
    {
     "name": "stdout",
     "output_type": "stream",
     "text": [
      "Rodando modelo: Árvore (prof = 7)\n",
      "Rodando modelo: Bagging\n",
      "Rodando modelo: Random Forest (arvs = 50, prof = 5)\n",
      "Rodando modelo: XGBoost\n"
     ]
    },
    {
     "data": {
      "text/html": [
       "<div>\n",
       "<style scoped>\n",
       "    .dataframe tbody tr th:only-of-type {\n",
       "        vertical-align: middle;\n",
       "    }\n",
       "\n",
       "    .dataframe tbody tr th {\n",
       "        vertical-align: top;\n",
       "    }\n",
       "\n",
       "    .dataframe thead th {\n",
       "        text-align: right;\n",
       "    }\n",
       "</style>\n",
       "<table border=\"1\" class=\"dataframe\">\n",
       "  <thead>\n",
       "    <tr style=\"text-align: right;\">\n",
       "      <th></th>\n",
       "      <th>acurácia</th>\n",
       "      <th>sensibilidade</th>\n",
       "      <th>precisão</th>\n",
       "      <th>eficiência</th>\n",
       "      <th>f1-score</th>\n",
       "    </tr>\n",
       "  </thead>\n",
       "  <tbody>\n",
       "    <tr>\n",
       "      <th>XGBoost</th>\n",
       "      <td>0.994633</td>\n",
       "      <td>0.760</td>\n",
       "      <td>0.903304</td>\n",
       "      <td>0.879305</td>\n",
       "      <td>0.825032</td>\n",
       "    </tr>\n",
       "    <tr>\n",
       "      <th>Bagging</th>\n",
       "      <td>0.993067</td>\n",
       "      <td>0.670</td>\n",
       "      <td>0.887592</td>\n",
       "      <td>0.834271</td>\n",
       "      <td>0.762447</td>\n",
       "    </tr>\n",
       "    <tr>\n",
       "      <th>Árvore (prof = 7)</th>\n",
       "      <td>0.991033</td>\n",
       "      <td>0.602</td>\n",
       "      <td>0.813295</td>\n",
       "      <td>0.799814</td>\n",
       "      <td>0.689794</td>\n",
       "    </tr>\n",
       "    <tr>\n",
       "      <th>Random Forest (arvs = 50, prof = 5)</th>\n",
       "      <td>0.990733</td>\n",
       "      <td>0.508</td>\n",
       "      <td>0.890267</td>\n",
       "      <td>0.753458</td>\n",
       "      <td>0.645714</td>\n",
       "    </tr>\n",
       "  </tbody>\n",
       "</table>\n",
       "</div>"
      ],
      "text/plain": [
       "                                     acurácia  sensibilidade  precisão  \\\n",
       "XGBoost                              0.994633          0.760  0.903304   \n",
       "Bagging                              0.993067          0.670  0.887592   \n",
       "Árvore (prof = 7)                    0.991033          0.602  0.813295   \n",
       "Random Forest (arvs = 50, prof = 5)  0.990733          0.508  0.890267   \n",
       "\n",
       "                                     eficiência  f1-score  \n",
       "XGBoost                                0.879305  0.825032  \n",
       "Bagging                                0.834271  0.762447  \n",
       "Árvore (prof = 7)                      0.799814  0.689794  \n",
       "Random Forest (arvs = 50, prof = 5)    0.753458  0.645714  "
      ]
     },
     "execution_count": 22,
     "metadata": {},
     "output_type": "execute_result"
    }
   ],
   "source": [
    "resultados = teste_modelos(X, y)\n",
    "resultados.sort_values(by = 'sensibilidade', ascending = False)"
   ]
  },
  {
   "cell_type": "markdown",
   "metadata": {},
   "source": [
    "O modelo XGBoost é superior em todas as métricas. Iremos portanto utilizá-lo nas análises seguintes.\n"
   ]
  },
  {
   "cell_type": "markdown",
   "metadata": {},
   "source": [
    "## \"Corrigindo\" o desbalanceamento das classes"
   ]
  },
  {
   "cell_type": "markdown",
   "metadata": {},
   "source": [
    "Esses dados apresentam grande desbalanceamento nas classes."
   ]
  },
  {
   "cell_type": "code",
   "execution_count": 16,
   "metadata": {},
   "outputs": [
    {
     "name": "stdout",
     "output_type": "stream",
     "text": [
      "• 59000 dos dados pertencem à classe \"neg\" \n",
      "\n",
      "• 1000 dos dados pertencem à classe \"pos\" \n",
      "\n"
     ]
    }
   ],
   "source": [
    "# contagem de classes\n",
    "pre_classe_cont_neg, pre_classe_cont_pos = df_pre['class'].value_counts()\n",
    "\n",
    "print('\\u2022 {} dos dados pertencem à classe \"neg\" \\n'.format(pre_classe_cont_neg))\n",
    "print('\\u2022 {} dos dados pertencem à classe \"pos\" \\n'.format(pre_classe_cont_pos))"
   ]
  },
  {
   "cell_type": "markdown",
   "metadata": {},
   "source": [
    "Nós iremos adicionar um maior peso na classificação para a classe minoritária e, portanto, forçar o modelo a realizar um melhor ajuste na predição da classe \"pos\".\n",
    "\n",
    "No XGBoost isso pode ser realizado através do hyperparâmetro \"scale_pos_weight\".\n",
    "\n",
    "Em geral, a escolha mais intuitiva e direta para esse parâmetro é a razao entre o número de dados da classe majoritária e a minoritária, 59 no nosso caso. Entretanto, nós iremos realizar uma tunagem mais ampla para verificar como se comporta o modelo conforme esses pesos são adicionados. "
   ]
  },
  {
   "cell_type": "code",
   "execution_count": 24,
   "metadata": {},
   "outputs": [
    {
     "name": "stdout",
     "output_type": "stream",
     "text": [
      "Fitting 10 folds for each of 6 candidates, totalling 60 fits\n"
     ]
    },
    {
     "data": {
      "text/plain": [
       "GridSearchCV(cv=RepeatedStratifiedKFold(n_repeats=1, n_splits=10, random_state=None),\n",
       "             estimator=XGBClassifier(base_score=None, booster=None,\n",
       "                                     callbacks=None, colsample_bylevel=None,\n",
       "                                     colsample_bynode=None,\n",
       "                                     colsample_bytree=None,\n",
       "                                     early_stopping_rounds=None,\n",
       "                                     enable_categorical=False, eval_metric=None,\n",
       "                                     gamma=None, gpu_id=None, grow_policy=None,\n",
       "                                     importance_type=None,\n",
       "                                     in...\n",
       "                                     learning_rate=None, max_bin=None,\n",
       "                                     max_cat_to_onehot=None,\n",
       "                                     max_delta_step=None, max_depth=None,\n",
       "                                     max_leaves=None, min_child_weight=None,\n",
       "                                     missing=nan, monotone_constraints=None,\n",
       "                                     n_estimators=100, n_jobs=None,\n",
       "                                     num_parallel_tree=None, predictor=None,\n",
       "                                     random_state=None, reg_alpha=None,\n",
       "                                     reg_lambda=None, ...),\n",
       "             n_jobs=-1,\n",
       "             param_grid={'scale_pos_weight': [10, 30, 59, 100, 500, 1000]},\n",
       "             scoring='recall', verbose=1)"
      ]
     },
     "execution_count": 24,
     "metadata": {},
     "output_type": "execute_result"
    }
   ],
   "source": [
    "# tunagem do hyperparâmetro 'scale_pos_weight'\n",
    "\n",
    "from sklearn.model_selection import GridSearchCV\n",
    "\n",
    "parametros = {'scale_pos_weight' : [10, 30, 59, 100, 500, 1000]}\n",
    "\n",
    "xgboost = XGBClassifier()\n",
    "grid_search = GridSearchCV(xgboost, param_grid = parametros,\n",
    "                                   scoring = 'recall', \n",
    "                                   cv = validacao, \n",
    "                                   verbose = 1,\n",
    "                                   n_jobs = -1)\n",
    "\n",
    "grid_search.fit(X, y)"
   ]
  },
  {
   "cell_type": "code",
   "execution_count": 70,
   "metadata": {},
   "outputs": [
    {
     "name": "stdout",
     "output_type": "stream",
     "text": [
      "O peso 1000 fornece a melhor sensibilidade, com valor de 0.83.\n"
     ]
    }
   ],
   "source": [
    "print('O peso {} fornece a melhor sensibilidade, com valor de {:.2f}.'.format(grid_search.best_params_['scale_pos_weight'], grid_search.best_score_))"
   ]
  },
  {
   "cell_type": "markdown",
   "metadata": {},
   "source": [
    "A sensibilidade, que é a métrica mais relevante para esse problema, é muito superior quando esse peso maior é adicionado na classe minoritária.\n",
    "\n",
    "A \"sensibilidade\" nos dá a fração dos veículos que apresentaram defeito no sistema de ar que o modelo é capaz de prever."
   ]
  },
  {
   "cell_type": "markdown",
   "metadata": {},
   "source": [
    "## Pré-processamento dos dados de 2020"
   ]
  },
  {
   "cell_type": "code",
   "execution_count": 17,
   "metadata": {},
   "outputs": [],
   "source": [
    "df_clean = pre_process(df, 700)\n",
    "df_rescaled = pd.DataFrame(scaler.transform(df_clean))"
   ]
  },
  {
   "cell_type": "markdown",
   "metadata": {},
   "source": [
    "## Aplicando os modelos nos dados de 2020\n",
    "\n",
    "Aplicação do modelo XGBoost sem nenhuma \"correção\" do desbalanceamento entre as classes."
   ]
  },
  {
   "cell_type": "code",
   "execution_count": 18,
   "metadata": {},
   "outputs": [],
   "source": [
    "# define o modelo\n",
    "xgboost = XGBClassifier()"
   ]
  },
  {
   "cell_type": "code",
   "execution_count": 19,
   "metadata": {},
   "outputs": [
    {
     "data": {
      "text/plain": [
       "XGBClassifier(base_score=0.5, booster='gbtree', callbacks=None,\n",
       "              colsample_bylevel=1, colsample_bynode=1, colsample_bytree=1,\n",
       "              early_stopping_rounds=None, enable_categorical=False,\n",
       "              eval_metric=None, gamma=0, gpu_id=-1, grow_policy='depthwise',\n",
       "              importance_type=None, interaction_constraints='',\n",
       "              learning_rate=0.300000012, max_bin=256, max_cat_to_onehot=4,\n",
       "              max_delta_step=0, max_depth=6, max_leaves=0, min_child_weight=1,\n",
       "              missing=nan, monotone_constraints='()', n_estimators=100,\n",
       "              n_jobs=0, num_parallel_tree=1, predictor='auto', random_state=0,\n",
       "              reg_alpha=0, reg_lambda=1, ...)"
      ]
     },
     "execution_count": 19,
     "metadata": {},
     "output_type": "execute_result"
    }
   ],
   "source": [
    "# ajusta o modelo em toda a base pré 2020\n",
    "xgboost.fit(X, y)"
   ]
  },
  {
   "cell_type": "code",
   "execution_count": 20,
   "metadata": {},
   "outputs": [],
   "source": [
    "# define as variáveis preditivas e de resposta dos dados de 2020\n",
    "X_2020 = df_rescaled.iloc[:, 1:]\n",
    "y_2020 = df_rescaled.iloc[:, 0]"
   ]
  },
  {
   "cell_type": "code",
   "execution_count": 21,
   "metadata": {},
   "outputs": [],
   "source": [
    "# predição \n",
    "pred_2020 = xgboost.predict(X_2020)"
   ]
  },
  {
   "cell_type": "code",
   "execution_count": 22,
   "metadata": {},
   "outputs": [
    {
     "name": "stdout",
     "output_type": "stream",
     "text": [
      "O modelo é capaz de prever 78.67% dos veículos que precisaram de manutenção em 2020.\n"
     ]
    }
   ],
   "source": [
    "# calcula a sensibilidade/recall do modelo quando aplicado nos dados de 2020\n",
    "sens = metrics.recall_score(y_2020, pred_2020)\n",
    "print('O modelo é capaz de prever {:.2%} dos veículos que precisaram de manutenção em 2020.'.format(sens))"
   ]
  },
  {
   "cell_type": "markdown",
   "metadata": {},
   "source": [
    "Aplicação do modelo XGBoost adicionando um peso maior na classe minoritária."
   ]
  },
  {
   "cell_type": "code",
   "execution_count": 23,
   "metadata": {},
   "outputs": [],
   "source": [
    "# define o modelo\n",
    "xgboost_weighted = XGBClassifier(scale_pos_weight = 1000)"
   ]
  },
  {
   "cell_type": "code",
   "execution_count": 24,
   "metadata": {},
   "outputs": [
    {
     "data": {
      "text/plain": [
       "XGBClassifier(base_score=0.5, booster='gbtree', callbacks=None,\n",
       "              colsample_bylevel=1, colsample_bynode=1, colsample_bytree=1,\n",
       "              early_stopping_rounds=None, enable_categorical=False,\n",
       "              eval_metric=None, gamma=0, gpu_id=-1, grow_policy='depthwise',\n",
       "              importance_type=None, interaction_constraints='',\n",
       "              learning_rate=0.300000012, max_bin=256, max_cat_to_onehot=4,\n",
       "              max_delta_step=0, max_depth=6, max_leaves=0, min_child_weight=1,\n",
       "              missing=nan, monotone_constraints='()', n_estimators=100,\n",
       "              n_jobs=0, num_parallel_tree=1, predictor='auto', random_state=0,\n",
       "              reg_alpha=0, reg_lambda=1, ...)"
      ]
     },
     "execution_count": 24,
     "metadata": {},
     "output_type": "execute_result"
    }
   ],
   "source": [
    "# ajusta o modelo na base balanceada pré 2020\n",
    "xgboost_weighted.fit(X, y)"
   ]
  },
  {
   "cell_type": "code",
   "execution_count": 25,
   "metadata": {},
   "outputs": [],
   "source": [
    "# predição \n",
    "pred_2020_weighted = xgboost_weighted.predict(X_2020)"
   ]
  },
  {
   "cell_type": "code",
   "execution_count": 26,
   "metadata": {},
   "outputs": [
    {
     "name": "stdout",
     "output_type": "stream",
     "text": [
      "O modelo, quando treinado \"corrigindo-se\" o desbalanceamento entre as classes, é capaz de prever 84.80% dos veículos que precisaram de manutenção em 2020.\n"
     ]
    }
   ],
   "source": [
    "# calcula a sensibilidade/recall do modelo quando aplicado nos dados de 2020 e com peso na classe minoritária\n",
    "sens = metrics.recall_score(y_2020, pred_2020_weighted)                        \n",
    "print('O modelo, quando treinado \"corrigindo-se\" o desbalanceamento entre as classes, é capaz de prever {:.2%} dos veículos que precisaram de manutenção em 2020.'.format(sens))"
   ]
  },
  {
   "cell_type": "markdown",
   "metadata": {},
   "source": [
    "## Considerações sobre os resultados do modelo e os valores gastos\n",
    "\n",
    "Utilizamos os resultados do modelo treinado com um peso maior na classe minoritária, que forneceu uma sensibilidade consideravelmente superior."
   ]
  },
  {
   "cell_type": "code",
   "execution_count": 30,
   "metadata": {},
   "outputs": [
    {
     "name": "stdout",
     "output_type": "stream",
     "text": [
      "O modelo prediz a manutenção de 396 veículos e os dados apresentam 375 veículos que precisaram de manutenção.\n"
     ]
    }
   ],
   "source": [
    "# número de previsões positivas\n",
    "pred_pos = sum(pred_2020_weighted == 1)\n",
    "\n",
    "# número de positivos nos dados\n",
    "num_pos = sum(y_2020 == 1)\n",
    "\n",
    "print('O modelo prediz a manutenção de {} veículos e os dados apresentam {} veículos que precisaram de manutenção.'.format(pred_pos, num_pos))"
   ]
  },
  {
   "cell_type": "code",
   "execution_count": 32,
   "metadata": {},
   "outputs": [
    {
     "name": "stdout",
     "output_type": "stream",
     "text": [
      "O modelo prediz corretamente 318.0 veículos que precisaram de manutenção e 57.0 veículos \n",
      " precisaram de manutenção mas não foram preditos.\n"
     ]
    }
   ],
   "source": [
    "# número de veículos preditos corretamente\n",
    "corr_pos = sens * num_pos\n",
    "\n",
    "# número de veículos que precisaram de manutenção mas não foram preditos\n",
    "nao_pred = num_pos - corr_pos\n",
    "\n",
    "print('O modelo prediz corretamente {} veículos que precisaram de manutenção e {} veículos \\n precisaram de manutenção mas não foram preditos.'.format(corr_pos, nao_pred))"
   ]
  },
  {
   "cell_type": "code",
   "execution_count": 35,
   "metadata": {},
   "outputs": [
    {
     "name": "stdout",
     "output_type": "stream",
     "text": [
      "Se as manutenções fossem realizadas conforme as predições do modelo a empresa teria gastado $32460.0.\n"
     ]
    }
   ],
   "source": [
    "# valor da manutenção preventiva\n",
    "v1 = 10\n",
    "#valor da manutenção corretiva\n",
    "v2 = 500\n",
    "\n",
    "# valor gasto\n",
    "total = pred_pos * v1 + nao_pred * v2\n",
    "\n",
    "print('Se as manutenções fossem realizadas conforme as predições do modelo a empresa teria gastado ${}.'.format(total))"
   ]
  },
  {
   "cell_type": "code",
   "execution_count": 37,
   "metadata": {},
   "outputs": [
    {
     "name": "stdout",
     "output_type": "stream",
     "text": [
      "A economia teria sido de $155040.0.\n"
     ]
    }
   ],
   "source": [
    "# valor que foi gasto em 2020\n",
    "gasto_2020 = 187500\n",
    "\n",
    "# valor economizado\n",
    "economia = gasto_2020 - total\n",
    "\n",
    "print('A economia teria sido de ${}.'.format(economia))"
   ]
  },
  {
   "cell_type": "markdown",
   "metadata": {},
   "source": [
    "## Variáveis de importância"
   ]
  },
  {
   "cell_type": "code",
   "execution_count": 39,
   "metadata": {},
   "outputs": [],
   "source": [
    "# calcula a importância relativa das variáveis\n",
    "feature_importances = xgboost_weighted.feature_importances_"
   ]
  },
  {
   "cell_type": "code",
   "execution_count": 40,
   "metadata": {},
   "outputs": [
    {
     "data": {
      "image/png": "[encoded data removed]",
      "text/plain": [
       "<Figure size 864x432 with 1 Axes>"
      ]
     },
     "metadata": {
      "needs_background": "light"
     },
     "output_type": "display_data"
    }
   ],
   "source": [
    "# ordena as variáveis em ordem ascendente de importância\n",
    "sorted_feat_imp = np.sort(feature_importances)\n",
    "\n",
    "# guarda a nova ordem dos índices após o reordenamento\n",
    "arg = feature_importances.argsort()\n",
    "\n",
    "# retorna o nome das variáveis\n",
    "feature_names = df_pre.drop('class', axis = 1).columns\n",
    "\n",
    "# reordena os nomes de acordo com o ordenamento de importância\n",
    "sorted_feat_names = feature_names[arg]\n",
    "\n",
    "# número de variáveis para serem exibidas no boxplot com as importâncias relativas\n",
    "num_features = 10\n",
    "\n",
    "# barplot com as importâncias relativas\n",
    "fig = plt.figure(figsize = (12, 6))\n",
    "plt.bar(sorted_feat_names[::-1][:num_features], sorted_feat_imp[::-1][:num_features])\n",
    "plt.xticks(fontsize = 16, rotation = 55)\n",
    "plt.yticks(fontsize = 16)\n",
    "plt.title('Importância Relativa', fontsize = 20)\n",
    "plt.show()"
   ]
  },
  {
   "cell_type": "markdown",
   "metadata": {},
   "source": [
    "A variável bc_000 é a variável de maior importância na predição das manutenções e com grande superioridade sobre as demais. "
   ]
  }
 ],
 "metadata": {
  "kernelspec": {
   "display_name": "Python 3 (ipykernel)",
   "language": "python",
   "name": "python3"
  },
  "language_info": {
   "codemirror_mode": {
    "name": "ipython",
    "version": 3
   },
   "file_extension": ".py",
   "mimetype": "text/x-python",
   "name": "python",
   "nbconvert_exporter": "python",
   "pygments_lexer": "ipython3",
   "version": "3.8.10"
  }
 },
 "nbformat": 4,
 "nbformat_minor": 4
}
